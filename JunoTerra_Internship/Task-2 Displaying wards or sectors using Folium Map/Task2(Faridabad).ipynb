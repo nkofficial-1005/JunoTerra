{
  "nbformat": 4,
  "nbformat_minor": 0,
  "metadata": {
    "colab": {
      "name": "Task2(Faridabad).ipynb",
      "provenance": [],
      "collapsed_sections": []
    },
    "kernelspec": {
      "name": "python3",
      "display_name": "Python 3"
    }
  },
  "cells": [
    {
      "cell_type": "code",
      "metadata": {
        "colab": {
          "base_uri": "https://localhost:8080/"
        },
        "id": "iGCNzbCg-94j",
        "outputId": "2fccc88b-d71b-492a-dea4-ee14987fab69"
      },
      "source": [
        "!pip install geopandas\n",
        "!pip install geopy\n",
        "!pip install folium"
      ],
      "execution_count": null,
      "outputs": [
        {
          "output_type": "stream",
          "text": [
            "Requirement already satisfied: geopandas in /usr/local/lib/python3.6/dist-packages (0.8.1)\n",
            "Requirement already satisfied: shapely in /usr/local/lib/python3.6/dist-packages (from geopandas) (1.7.1)\n",
            "Requirement already satisfied: fiona in /usr/local/lib/python3.6/dist-packages (from geopandas) (1.8.18)\n",
            "Requirement already satisfied: pyproj>=2.2.0 in /usr/local/lib/python3.6/dist-packages (from geopandas) (3.0.0.post1)\n",
            "Requirement already satisfied: pandas>=0.23.0 in /usr/local/lib/python3.6/dist-packages (from geopandas) (1.1.4)\n",
            "Requirement already satisfied: click-plugins>=1.0 in /usr/local/lib/python3.6/dist-packages (from fiona->geopandas) (1.1.1)\n",
            "Requirement already satisfied: attrs>=17 in /usr/local/lib/python3.6/dist-packages (from fiona->geopandas) (20.3.0)\n",
            "Requirement already satisfied: cligj>=0.5 in /usr/local/lib/python3.6/dist-packages (from fiona->geopandas) (0.7.1)\n",
            "Requirement already satisfied: munch in /usr/local/lib/python3.6/dist-packages (from fiona->geopandas) (2.5.0)\n",
            "Requirement already satisfied: certifi in /usr/local/lib/python3.6/dist-packages (from fiona->geopandas) (2020.11.8)\n",
            "Requirement already satisfied: six>=1.7 in /usr/local/lib/python3.6/dist-packages (from fiona->geopandas) (1.15.0)\n",
            "Requirement already satisfied: click<8,>=4.0 in /usr/local/lib/python3.6/dist-packages (from fiona->geopandas) (7.1.2)\n",
            "Requirement already satisfied: python-dateutil>=2.7.3 in /usr/local/lib/python3.6/dist-packages (from pandas>=0.23.0->geopandas) (2.8.1)\n",
            "Requirement already satisfied: numpy>=1.15.4 in /usr/local/lib/python3.6/dist-packages (from pandas>=0.23.0->geopandas) (1.18.5)\n",
            "Requirement already satisfied: pytz>=2017.2 in /usr/local/lib/python3.6/dist-packages (from pandas>=0.23.0->geopandas) (2018.9)\n",
            "Requirement already satisfied: geopy in /usr/local/lib/python3.6/dist-packages (1.17.0)\n",
            "Requirement already satisfied: geographiclib<2,>=1.49 in /usr/local/lib/python3.6/dist-packages (from geopy) (1.50)\n",
            "Requirement already satisfied: folium in /usr/local/lib/python3.6/dist-packages (0.8.3)\n",
            "Requirement already satisfied: six in /usr/local/lib/python3.6/dist-packages (from folium) (1.15.0)\n",
            "Requirement already satisfied: requests in /usr/local/lib/python3.6/dist-packages (from folium) (2.23.0)\n",
            "Requirement already satisfied: branca>=0.3.0 in /usr/local/lib/python3.6/dist-packages (from folium) (0.4.1)\n",
            "Requirement already satisfied: numpy in /usr/local/lib/python3.6/dist-packages (from folium) (1.18.5)\n",
            "Requirement already satisfied: jinja2 in /usr/local/lib/python3.6/dist-packages (from folium) (2.11.2)\n",
            "Requirement already satisfied: idna<3,>=2.5 in /usr/local/lib/python3.6/dist-packages (from requests->folium) (2.10)\n",
            "Requirement already satisfied: urllib3!=1.25.0,!=1.25.1,<1.26,>=1.21.1 in /usr/local/lib/python3.6/dist-packages (from requests->folium) (1.24.3)\n",
            "Requirement already satisfied: chardet<4,>=3.0.2 in /usr/local/lib/python3.6/dist-packages (from requests->folium) (3.0.4)\n",
            "Requirement already satisfied: certifi>=2017.4.17 in /usr/local/lib/python3.6/dist-packages (from requests->folium) (2020.11.8)\n",
            "Requirement already satisfied: MarkupSafe>=0.23 in /usr/local/lib/python3.6/dist-packages (from jinja2->folium) (1.1.1)\n"
          ],
          "name": "stdout"
        }
      ]
    },
    {
      "cell_type": "code",
      "metadata": {
        "id": "jrCRsSD9--nW"
      },
      "source": [
        "import folium \n",
        "import csv\n",
        "import pandas as pd\n",
        "from geopy.geocoders import Nominatim\n",
        "from geopy.extra.rate_limiter import RateLimiter\n",
        "from folium import plugins\n",
        "from folium.plugins import HeatMap"
      ],
      "execution_count": null,
      "outputs": []
    },
    {
      "cell_type": "code",
      "metadata": {
        "colab": {
          "base_uri": "https://localhost:8080/"
        },
        "id": "pGBUa0_n_ZK3",
        "outputId": "a9e0cafc-2c19-43b6-d620-235213b6b6d5"
      },
      "source": [
        "df = pd.read_csv(\"faridabad_wards.csv\", encoding= 'unicode_escape')\n",
        "\n",
        "print(df)"
      ],
      "execution_count": null,
      "outputs": [
        {
          "output_type": "stream",
          "text": [
            "    Ward No.                 Ward\n",
            "0          1       Khori Jamalpur\n",
            "1          2                  Kot\n",
            "2          3               Sirohi\n",
            "3          4              Alampur\n",
            "4          5          Tikri Khera\n",
            "5          6                Dhauj\n",
            "6          7               Mangar\n",
            "7          8                Pavta\n",
            "8          9        Fatehpur Taga\n",
            "9         10             Sarurpur\n",
            "10        11               Nekpur\n",
            "11        12             Madalpur\n",
            "12        13         Kheri Gujran\n",
            "13        14    Gothra Mohabtabad\n",
            "14        15                 Pali\n",
            "15        16                Kavra\n",
            "16        17         Rajpur Kalan\n",
            "17        18            Bhanskola\n",
            "18        19               Lalpur\n",
            "19        20             Dadasiya\n",
            "20        21              Bhupani\n",
            "21        22              Palwali\n",
            "22        23              Tikwali\n",
            "23        24               Tilpat\n",
            "24        25              Bhatola\n",
            "25        26               Pakhal\n",
            "26        27          Kheri Kalan\n",
            "27        28       Baroli/ Badoli\n",
            "28        29              Bhuapur\n",
            "29        30              Dehkola\n",
            "30        31            Mahmudpur\n",
            "31        32              Tajupur\n",
            "32        33         Badarpur Sed\n",
            "33        34              Nacholi\n",
            "34        35               Jasana\n",
            "35        36              Shahbad\n",
            "36        37               Chirsi\n",
            "37        38               Amipur\n",
            "38        39              Sidhola\n",
            "39        40     Amipur Shikargah\n",
            "40        41             Faridpur\n",
            "41        42              Sadpura\n",
            "42        43                Nimka\n",
            "43        44               Tigaon\n",
            "44        45           Manjhawali\n",
            "45        46          Bhansrawali\n",
            "46        47              Lehdola\n",
            "47        48            Fattupura\n",
            "48        49  Tigaon Adhana Patti\n"
          ],
          "name": "stdout"
        }
      ]
    },
    {
      "cell_type": "code",
      "metadata": {
        "colab": {
          "base_uri": "https://localhost:8080/",
          "height": 204
        },
        "id": "RCwqZt5m59ZW",
        "outputId": "ac3075a8-6444-42c7-bb07-c8565d3e328b"
      },
      "source": [
        "df['Country'] = 'India'\n",
        "df.head()"
      ],
      "execution_count": null,
      "outputs": [
        {
          "output_type": "execute_result",
          "data": {
            "text/html": [
              "<div>\n",
              "<style scoped>\n",
              "    .dataframe tbody tr th:only-of-type {\n",
              "        vertical-align: middle;\n",
              "    }\n",
              "\n",
              "    .dataframe tbody tr th {\n",
              "        vertical-align: top;\n",
              "    }\n",
              "\n",
              "    .dataframe thead th {\n",
              "        text-align: right;\n",
              "    }\n",
              "</style>\n",
              "<table border=\"1\" class=\"dataframe\">\n",
              "  <thead>\n",
              "    <tr style=\"text-align: right;\">\n",
              "      <th></th>\n",
              "      <th>Ward No.</th>\n",
              "      <th>Ward</th>\n",
              "      <th>Country</th>\n",
              "    </tr>\n",
              "  </thead>\n",
              "  <tbody>\n",
              "    <tr>\n",
              "      <th>0</th>\n",
              "      <td>1</td>\n",
              "      <td>Khori Jamalpur</td>\n",
              "      <td>India</td>\n",
              "    </tr>\n",
              "    <tr>\n",
              "      <th>1</th>\n",
              "      <td>2</td>\n",
              "      <td>Kot</td>\n",
              "      <td>India</td>\n",
              "    </tr>\n",
              "    <tr>\n",
              "      <th>2</th>\n",
              "      <td>3</td>\n",
              "      <td>Sirohi</td>\n",
              "      <td>India</td>\n",
              "    </tr>\n",
              "    <tr>\n",
              "      <th>3</th>\n",
              "      <td>4</td>\n",
              "      <td>Alampur</td>\n",
              "      <td>India</td>\n",
              "    </tr>\n",
              "    <tr>\n",
              "      <th>4</th>\n",
              "      <td>5</td>\n",
              "      <td>Tikri Khera</td>\n",
              "      <td>India</td>\n",
              "    </tr>\n",
              "  </tbody>\n",
              "</table>\n",
              "</div>"
            ],
            "text/plain": [
              "   Ward No.            Ward Country\n",
              "0         1  Khori Jamalpur   India\n",
              "1         2             Kot   India\n",
              "2         3          Sirohi   India\n",
              "3         4         Alampur   India\n",
              "4         5     Tikri Khera   India"
            ]
          },
          "metadata": {
            "tags": []
          },
          "execution_count": 4
        }
      ]
    },
    {
      "cell_type": "code",
      "metadata": {
        "colab": {
          "base_uri": "https://localhost:8080/",
          "height": 204
        },
        "id": "nFwdeJMz7McY",
        "outputId": "e44b018e-219f-4d15-dd15-41931034fc05"
      },
      "source": [
        "df['State'] = 'Faridabad'\n",
        "df.head()"
      ],
      "execution_count": null,
      "outputs": [
        {
          "output_type": "execute_result",
          "data": {
            "text/html": [
              "<div>\n",
              "<style scoped>\n",
              "    .dataframe tbody tr th:only-of-type {\n",
              "        vertical-align: middle;\n",
              "    }\n",
              "\n",
              "    .dataframe tbody tr th {\n",
              "        vertical-align: top;\n",
              "    }\n",
              "\n",
              "    .dataframe thead th {\n",
              "        text-align: right;\n",
              "    }\n",
              "</style>\n",
              "<table border=\"1\" class=\"dataframe\">\n",
              "  <thead>\n",
              "    <tr style=\"text-align: right;\">\n",
              "      <th></th>\n",
              "      <th>Ward No.</th>\n",
              "      <th>Ward</th>\n",
              "      <th>Country</th>\n",
              "      <th>State</th>\n",
              "    </tr>\n",
              "  </thead>\n",
              "  <tbody>\n",
              "    <tr>\n",
              "      <th>0</th>\n",
              "      <td>1</td>\n",
              "      <td>Khori Jamalpur</td>\n",
              "      <td>India</td>\n",
              "      <td>Faridabad</td>\n",
              "    </tr>\n",
              "    <tr>\n",
              "      <th>1</th>\n",
              "      <td>2</td>\n",
              "      <td>Kot</td>\n",
              "      <td>India</td>\n",
              "      <td>Faridabad</td>\n",
              "    </tr>\n",
              "    <tr>\n",
              "      <th>2</th>\n",
              "      <td>3</td>\n",
              "      <td>Sirohi</td>\n",
              "      <td>India</td>\n",
              "      <td>Faridabad</td>\n",
              "    </tr>\n",
              "    <tr>\n",
              "      <th>3</th>\n",
              "      <td>4</td>\n",
              "      <td>Alampur</td>\n",
              "      <td>India</td>\n",
              "      <td>Faridabad</td>\n",
              "    </tr>\n",
              "    <tr>\n",
              "      <th>4</th>\n",
              "      <td>5</td>\n",
              "      <td>Tikri Khera</td>\n",
              "      <td>India</td>\n",
              "      <td>Faridabad</td>\n",
              "    </tr>\n",
              "  </tbody>\n",
              "</table>\n",
              "</div>"
            ],
            "text/plain": [
              "   Ward No.            Ward Country      State\n",
              "0         1  Khori Jamalpur   India  Faridabad\n",
              "1         2             Kot   India  Faridabad\n",
              "2         3          Sirohi   India  Faridabad\n",
              "3         4         Alampur   India  Faridabad\n",
              "4         5     Tikri Khera   India  Faridabad"
            ]
          },
          "metadata": {
            "tags": []
          },
          "execution_count": 5
        }
      ]
    },
    {
      "cell_type": "code",
      "metadata": {
        "colab": {
          "base_uri": "https://localhost:8080/",
          "height": 204
        },
        "id": "fYGGc7165zMV",
        "outputId": "67311881-fea4-43d5-8ef8-e2d7f47b0148"
      },
      "source": [
        "df[\"location\"] = df['Ward'] +\", \" + df['State'] +\", \" + df['Country']\n",
        "df.head()"
      ],
      "execution_count": null,
      "outputs": [
        {
          "output_type": "execute_result",
          "data": {
            "text/html": [
              "<div>\n",
              "<style scoped>\n",
              "    .dataframe tbody tr th:only-of-type {\n",
              "        vertical-align: middle;\n",
              "    }\n",
              "\n",
              "    .dataframe tbody tr th {\n",
              "        vertical-align: top;\n",
              "    }\n",
              "\n",
              "    .dataframe thead th {\n",
              "        text-align: right;\n",
              "    }\n",
              "</style>\n",
              "<table border=\"1\" class=\"dataframe\">\n",
              "  <thead>\n",
              "    <tr style=\"text-align: right;\">\n",
              "      <th></th>\n",
              "      <th>Ward No.</th>\n",
              "      <th>Ward</th>\n",
              "      <th>Country</th>\n",
              "      <th>State</th>\n",
              "      <th>location</th>\n",
              "    </tr>\n",
              "  </thead>\n",
              "  <tbody>\n",
              "    <tr>\n",
              "      <th>0</th>\n",
              "      <td>1</td>\n",
              "      <td>Khori Jamalpur</td>\n",
              "      <td>India</td>\n",
              "      <td>Faridabad</td>\n",
              "      <td>Khori Jamalpur, Faridabad, India</td>\n",
              "    </tr>\n",
              "    <tr>\n",
              "      <th>1</th>\n",
              "      <td>2</td>\n",
              "      <td>Kot</td>\n",
              "      <td>India</td>\n",
              "      <td>Faridabad</td>\n",
              "      <td>Kot, Faridabad, India</td>\n",
              "    </tr>\n",
              "    <tr>\n",
              "      <th>2</th>\n",
              "      <td>3</td>\n",
              "      <td>Sirohi</td>\n",
              "      <td>India</td>\n",
              "      <td>Faridabad</td>\n",
              "      <td>Sirohi, Faridabad, India</td>\n",
              "    </tr>\n",
              "    <tr>\n",
              "      <th>3</th>\n",
              "      <td>4</td>\n",
              "      <td>Alampur</td>\n",
              "      <td>India</td>\n",
              "      <td>Faridabad</td>\n",
              "      <td>Alampur, Faridabad, India</td>\n",
              "    </tr>\n",
              "    <tr>\n",
              "      <th>4</th>\n",
              "      <td>5</td>\n",
              "      <td>Tikri Khera</td>\n",
              "      <td>India</td>\n",
              "      <td>Faridabad</td>\n",
              "      <td>Tikri Khera, Faridabad, India</td>\n",
              "    </tr>\n",
              "  </tbody>\n",
              "</table>\n",
              "</div>"
            ],
            "text/plain": [
              "   Ward No.            Ward  ...      State                          location\n",
              "0         1  Khori Jamalpur  ...  Faridabad  Khori Jamalpur, Faridabad, India\n",
              "1         2             Kot  ...  Faridabad             Kot, Faridabad, India\n",
              "2         3          Sirohi  ...  Faridabad          Sirohi, Faridabad, India\n",
              "3         4         Alampur  ...  Faridabad         Alampur, Faridabad, India\n",
              "4         5     Tikri Khera  ...  Faridabad     Tikri Khera, Faridabad, India\n",
              "\n",
              "[5 rows x 5 columns]"
            ]
          },
          "metadata": {
            "tags": []
          },
          "execution_count": 6
        }
      ]
    },
    {
      "cell_type": "code",
      "metadata": {
        "id": "8_kijecbHpF-"
      },
      "source": [
        "from geopy.exc import GeocoderTimedOut \n",
        "from geopy.geocoders import Nominatim \n",
        "import numpy as np\n",
        "   \n",
        "# declare an empty list to store \n",
        "# latitude and longitude of values  \n",
        "# of city column \n",
        "longitude = [] \n",
        "latitude = []       \n",
        "  \n",
        "# function to find the coordinate \n",
        "# of a given city  \n",
        "def findGeocode(location): \n",
        "       \n",
        "    # try and catch is used to overcome \n",
        "    # the exception thrown by geolocator \n",
        "    # using geocodertimedout   \n",
        "    try: \n",
        "          \n",
        "        # Specify the user_agent as your \n",
        "        # app name it should not be none \n",
        "        geolocator = Nominatim(user_agent=\"myGeocoder\")\n",
        "        \n",
        "        return geolocator.geocode(location) \n",
        "      \n",
        "    except GeocoderTimedOut: \n",
        "          \n",
        "        return findGeocode(location) \n",
        "# each value from city column \n",
        "# will be fetched and sent to \n",
        "# function find_geocode    \n",
        "for i in (df[\"location\"]): \n",
        "      \n",
        "    if findGeocode(i) != None: \n",
        "           \n",
        "        loc = findGeocode(i) \n",
        "          \n",
        "        # coordinates returned from  \n",
        "        # function is stored into \n",
        "        # two separate list \n",
        "        latitude.append(loc.latitude) \n",
        "        longitude.append(loc.longitude) \n",
        "       \n",
        "    # if coordinate for a city not \n",
        "    # found, insert \"NaN\" indicating  \n",
        "    # missing value  \n",
        "    else: \n",
        "        latitude.append(np.nan) \n",
        "        longitude.append(np.nan) "
      ],
      "execution_count": null,
      "outputs": []
    },
    {
      "cell_type": "code",
      "metadata": {
        "colab": {
          "base_uri": "https://localhost:8080/",
          "height": 204
        },
        "id": "wnQzvoVjLuJY",
        "outputId": "e0da2bc9-38a4-425e-985d-6f0448f7ad41"
      },
      "source": [
        "df[\"Longitude\"] = longitude \n",
        "df[\"Latitude\"] = latitude \n",
        "\n",
        "df.head()"
      ],
      "execution_count": null,
      "outputs": [
        {
          "output_type": "execute_result",
          "data": {
            "text/html": [
              "<div>\n",
              "<style scoped>\n",
              "    .dataframe tbody tr th:only-of-type {\n",
              "        vertical-align: middle;\n",
              "    }\n",
              "\n",
              "    .dataframe tbody tr th {\n",
              "        vertical-align: top;\n",
              "    }\n",
              "\n",
              "    .dataframe thead th {\n",
              "        text-align: right;\n",
              "    }\n",
              "</style>\n",
              "<table border=\"1\" class=\"dataframe\">\n",
              "  <thead>\n",
              "    <tr style=\"text-align: right;\">\n",
              "      <th></th>\n",
              "      <th>Ward No.</th>\n",
              "      <th>Ward</th>\n",
              "      <th>Country</th>\n",
              "      <th>State</th>\n",
              "      <th>location</th>\n",
              "      <th>Longitude</th>\n",
              "      <th>Latitude</th>\n",
              "    </tr>\n",
              "  </thead>\n",
              "  <tbody>\n",
              "    <tr>\n",
              "      <th>0</th>\n",
              "      <td>1</td>\n",
              "      <td>Khori Jamalpur</td>\n",
              "      <td>India</td>\n",
              "      <td>Faridabad</td>\n",
              "      <td>Khori Jamalpur, Faridabad, India</td>\n",
              "      <td>77.160005</td>\n",
              "      <td>28.330003</td>\n",
              "    </tr>\n",
              "    <tr>\n",
              "      <th>1</th>\n",
              "      <td>2</td>\n",
              "      <td>Kot</td>\n",
              "      <td>India</td>\n",
              "      <td>Faridabad</td>\n",
              "      <td>Kot, Faridabad, India</td>\n",
              "      <td>77.160005</td>\n",
              "      <td>28.330003</td>\n",
              "    </tr>\n",
              "    <tr>\n",
              "      <th>2</th>\n",
              "      <td>3</td>\n",
              "      <td>Sirohi</td>\n",
              "      <td>India</td>\n",
              "      <td>Faridabad</td>\n",
              "      <td>Sirohi, Faridabad, India</td>\n",
              "      <td>77.160005</td>\n",
              "      <td>28.330003</td>\n",
              "    </tr>\n",
              "    <tr>\n",
              "      <th>3</th>\n",
              "      <td>4</td>\n",
              "      <td>Alampur</td>\n",
              "      <td>India</td>\n",
              "      <td>Faridabad</td>\n",
              "      <td>Alampur, Faridabad, India</td>\n",
              "      <td>77.160005</td>\n",
              "      <td>28.330003</td>\n",
              "    </tr>\n",
              "    <tr>\n",
              "      <th>4</th>\n",
              "      <td>5</td>\n",
              "      <td>Tikri Khera</td>\n",
              "      <td>India</td>\n",
              "      <td>Faridabad</td>\n",
              "      <td>Tikri Khera, Faridabad, India</td>\n",
              "      <td>77.160005</td>\n",
              "      <td>28.330003</td>\n",
              "    </tr>\n",
              "  </tbody>\n",
              "</table>\n",
              "</div>"
            ],
            "text/plain": [
              "   Ward No.            Ward  ...  Longitude   Latitude\n",
              "0         1  Khori Jamalpur  ...  77.160005  28.330003\n",
              "1         2             Kot  ...  77.160005  28.330003\n",
              "2         3          Sirohi  ...  77.160005  28.330003\n",
              "3         4         Alampur  ...  77.160005  28.330003\n",
              "4         5     Tikri Khera  ...  77.160005  28.330003\n",
              "\n",
              "[5 rows x 7 columns]"
            ]
          },
          "metadata": {
            "tags": []
          },
          "execution_count": 14
        }
      ]
    },
    {
      "cell_type": "code",
      "metadata": {
        "id": "y_7s87ujQnzm"
      },
      "source": [
        "df.to_csv(\"faridabad.csv\")"
      ],
      "execution_count": null,
      "outputs": []
    },
    {
      "cell_type": "code",
      "metadata": {
        "colab": {
          "base_uri": "https://localhost:8080/",
          "height": 583
        },
        "id": "rwNuKSURL0bN",
        "outputId": "84a8b356-da92-46e2-8d19-ae1e66d480a0"
      },
      "source": [
        "map_hooray = folium.Map(location=[28.330003, 77.160005], zoom_start = 13) \n",
        "\n",
        "# Ensure you're handing it floats\n",
        "df['Latitude'] = df['Latitude'].astype(float)\n",
        "df['Longitude'] = df['Longitude'].astype(float)\n",
        "\n",
        "# Filter the DF for rows, then columns, then remove NaNs\n",
        "heat_df = df[['Latitude', 'Longitude']]\n",
        "heat_df = heat_df.dropna(axis=0, subset=['Latitude','Longitude'])\n",
        "\n",
        "# List comprehension to make out list of lists\n",
        "heat_data = [[row['Latitude'],row['Longitude']] for index, row in heat_df.iterrows()]\n",
        "\n",
        "# Plot it on the map\n",
        "HeatMap(heat_data).add_to(map_hooray)\n",
        "\n",
        "# Display the map\n",
        "map_hooray"
      ],
      "execution_count": null,
      "outputs": [
        {
          "output_type": "execute_result",
          "data": {
            "text/html": [
              "<div style=\"width:100%;\"><div style=\"position:relative;width:100%;height:0;padding-bottom:60%;\"><span style=\"color:#565656\">Make this Notebook Trusted to load map: File -> Trust Notebook</span><iframe src=\"about:blank\" style=\"position:absolute;width:100%;height:100%;left:0;top:0;border:none !important;\" data-html=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 onload=\"this.contentDocument.open();this.contentDocument.write(atob(this.getAttribute('data-html')));this.contentDocument.close();\" allowfullscreen webkitallowfullscreen mozallowfullscreen></iframe></div></div>"
            ],
            "text/plain": [
              "<folium.folium.Map at 0x7f81383acac8>"
            ]
          },
          "metadata": {
            "tags": []
          },
          "execution_count": 10
        }
      ]
    },
    {
      "cell_type": "code",
      "metadata": {
        "colab": {
          "base_uri": "https://localhost:8080/",
          "height": 204
        },
        "id": "D2spoNt3u0M3",
        "outputId": "5548f772-bf0d-47ff-ecee-b89c6467e705"
      },
      "source": [
        "df['Latitude']= df['Latitude'].fillna(0)\n",
        "df['Longitude']= df['Longitude'].fillna(0)\n",
        "df.head()"
      ],
      "execution_count": null,
      "outputs": [
        {
          "output_type": "execute_result",
          "data": {
            "text/html": [
              "<div>\n",
              "<style scoped>\n",
              "    .dataframe tbody tr th:only-of-type {\n",
              "        vertical-align: middle;\n",
              "    }\n",
              "\n",
              "    .dataframe tbody tr th {\n",
              "        vertical-align: top;\n",
              "    }\n",
              "\n",
              "    .dataframe thead th {\n",
              "        text-align: right;\n",
              "    }\n",
              "</style>\n",
              "<table border=\"1\" class=\"dataframe\">\n",
              "  <thead>\n",
              "    <tr style=\"text-align: right;\">\n",
              "      <th></th>\n",
              "      <th>Ward No.</th>\n",
              "      <th>Ward</th>\n",
              "      <th>Country</th>\n",
              "      <th>State</th>\n",
              "      <th>location</th>\n",
              "      <th>Longitude</th>\n",
              "      <th>Latitude</th>\n",
              "    </tr>\n",
              "  </thead>\n",
              "  <tbody>\n",
              "    <tr>\n",
              "      <th>0</th>\n",
              "      <td>1</td>\n",
              "      <td>Khori Jamalpur</td>\n",
              "      <td>India</td>\n",
              "      <td>Faridabad</td>\n",
              "      <td>Khori Jamalpur, Faridabad, India</td>\n",
              "      <td>0.000000</td>\n",
              "      <td>0.000000</td>\n",
              "    </tr>\n",
              "    <tr>\n",
              "      <th>1</th>\n",
              "      <td>2</td>\n",
              "      <td>Kot</td>\n",
              "      <td>India</td>\n",
              "      <td>Faridabad</td>\n",
              "      <td>Kot, Faridabad, India</td>\n",
              "      <td>77.167555</td>\n",
              "      <td>28.333293</td>\n",
              "    </tr>\n",
              "    <tr>\n",
              "      <th>2</th>\n",
              "      <td>3</td>\n",
              "      <td>Sirohi</td>\n",
              "      <td>India</td>\n",
              "      <td>Faridabad</td>\n",
              "      <td>Sirohi, Faridabad, India</td>\n",
              "      <td>77.180124</td>\n",
              "      <td>28.321093</td>\n",
              "    </tr>\n",
              "    <tr>\n",
              "      <th>3</th>\n",
              "      <td>4</td>\n",
              "      <td>Alampur</td>\n",
              "      <td>India</td>\n",
              "      <td>Faridabad</td>\n",
              "      <td>Alampur, Faridabad, India</td>\n",
              "      <td>0.000000</td>\n",
              "      <td>0.000000</td>\n",
              "    </tr>\n",
              "    <tr>\n",
              "      <th>4</th>\n",
              "      <td>5</td>\n",
              "      <td>Tikri Khera</td>\n",
              "      <td>India</td>\n",
              "      <td>Faridabad</td>\n",
              "      <td>Tikri Khera, Faridabad, India</td>\n",
              "      <td>0.000000</td>\n",
              "      <td>0.000000</td>\n",
              "    </tr>\n",
              "  </tbody>\n",
              "</table>\n",
              "</div>"
            ],
            "text/plain": [
              "   Ward No.            Ward  ...  Longitude   Latitude\n",
              "0         1  Khori Jamalpur  ...   0.000000   0.000000\n",
              "1         2             Kot  ...  77.167555  28.333293\n",
              "2         3          Sirohi  ...  77.180124  28.321093\n",
              "3         4         Alampur  ...   0.000000   0.000000\n",
              "4         5     Tikri Khera  ...   0.000000   0.000000\n",
              "\n",
              "[5 rows x 7 columns]"
            ]
          },
          "metadata": {
            "tags": []
          },
          "execution_count": 11
        }
      ]
    },
    {
      "cell_type": "code",
      "metadata": {
        "id": "InyZmgPs1qp8"
      },
      "source": [
        "latitude = 28.330003\n",
        "longitude = 77.160005\n",
        "faridabad_map = folium.Map(location=[latitude, longitude], zoom_start=13)"
      ],
      "execution_count": null,
      "outputs": []
    },
    {
      "cell_type": "code",
      "metadata": {
        "id": "wVBypVwAZZ4r",
        "colab": {
          "base_uri": "https://localhost:8080/",
          "height": 583
        },
        "outputId": "36a0b2a3-5b85-482d-a202-92b3f450f522"
      },
      "source": [
        "for lat, lon, ward in zip(df['Latitude'], df['Longitude'], df['Ward']):\n",
        "    folium.CircleMarker(\n",
        "        [lat, lon],\n",
        "        popup = ('Ward: ' + str(ward).capitalize()\n",
        "                ),\n",
        "        color='blue',\n",
        "        key_on = ward,\n",
        "        threshold_scale=[0,1,2,3],\n",
        "        fill=True,\n",
        "        fill_opacity=0.7\n",
        "        ).add_to(faridabad_map)\n",
        "faridabad_map"
      ],
      "execution_count": null,
      "outputs": [
        {
          "output_type": "execute_result",
          "data": {
            "text/html": [
              "<div style=\"width:100%;\"><div style=\"position:relative;width:100%;height:0;padding-bottom:60%;\"><span style=\"color:#565656\">Make this Notebook Trusted to load map: File -> Trust Notebook</span><iframe src=\"about:blank\" style=\"position:absolute;width:100%;height:100%;left:0;top:0;border:none !important;\" data-html=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 onload=\"this.contentDocument.open();this.contentDocument.write(atob(this.getAttribute('data-html')));this.contentDocument.close();\" allowfullscreen webkitallowfullscreen mozallowfullscreen></iframe></div></div>"
            ],
            "text/plain": [
              "<folium.folium.Map at 0x7f8137f1ee80>"
            ]
          },
          "metadata": {
            "tags": []
          },
          "execution_count": 13
        }
      ]
    },
    {
      "cell_type": "code",
      "metadata": {
        "id": "T0xxAKCw4JSH"
      },
      "source": [
        ""
      ],
      "execution_count": null,
      "outputs": []
    }
  ]
}