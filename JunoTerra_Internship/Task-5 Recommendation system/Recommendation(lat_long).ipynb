{
  "nbformat": 4,
  "nbformat_minor": 0,
  "metadata": {
    "colab": {
      "name": "Recommendation(lat long).ipynb",
      "provenance": [],
      "collapsed_sections": []
    },
    "kernelspec": {
      "name": "python3",
      "display_name": "Python 3"
    }
  },
  "cells": [
    {
      "cell_type": "code",
      "metadata": {
        "colab": {
          "base_uri": "https://localhost:8080/"
        },
        "id": "iGCNzbCg-94j",
        "outputId": "0ae52dda-88a6-4e18-912e-d2c6c2070ccf"
      },
      "source": [
        "!pip install geopandas\n",
        "!pip install geopy"
      ],
      "execution_count": 1,
      "outputs": [
        {
          "output_type": "stream",
          "text": [
            "Collecting geopandas\n",
            "\u001b[?25l  Downloading https://files.pythonhosted.org/packages/d7/bf/e9cefb69d39155d122b6ddca53893b61535fa6ffdad70bf5ef708977f53f/geopandas-0.9.0-py2.py3-none-any.whl (994kB)\n",
            "\u001b[K     |████████████████████████████████| 1.0MB 6.1MB/s \n",
            "\u001b[?25hCollecting fiona>=1.8\n",
            "\u001b[?25l  Downloading https://files.pythonhosted.org/packages/ea/2a/404b22883298a3efe9c6ef8d67acbf2c38443fa366ee9cd4cd34e17626ea/Fiona-1.8.19-cp37-cp37m-manylinux1_x86_64.whl (15.3MB)\n",
            "\u001b[K     |████████████████████████████████| 15.3MB 272kB/s \n",
            "\u001b[?25hRequirement already satisfied: shapely>=1.6 in /usr/local/lib/python3.7/dist-packages (from geopandas) (1.7.1)\n",
            "Requirement already satisfied: pandas>=0.24.0 in /usr/local/lib/python3.7/dist-packages (from geopandas) (1.1.5)\n",
            "Collecting pyproj>=2.2.0\n",
            "\u001b[?25l  Downloading https://files.pythonhosted.org/packages/b1/72/d52e9ca81caef056062d71991b0e9b1d16af042245627c5d0e4916a36c4f/pyproj-3.0.1-cp37-cp37m-manylinux2010_x86_64.whl (6.5MB)\n",
            "\u001b[K     |████████████████████████████████| 6.5MB 38.5MB/s \n",
            "\u001b[?25hRequirement already satisfied: six>=1.7 in /usr/local/lib/python3.7/dist-packages (from fiona>=1.8->geopandas) (1.15.0)\n",
            "Collecting munch\n",
            "  Downloading https://files.pythonhosted.org/packages/cc/ab/85d8da5c9a45e072301beb37ad7f833cd344e04c817d97e0cc75681d248f/munch-2.5.0-py2.py3-none-any.whl\n",
            "Collecting click-plugins>=1.0\n",
            "  Downloading https://files.pythonhosted.org/packages/e9/da/824b92d9942f4e472702488857914bdd50f73021efea15b4cad9aca8ecef/click_plugins-1.1.1-py2.py3-none-any.whl\n",
            "Requirement already satisfied: certifi in /usr/local/lib/python3.7/dist-packages (from fiona>=1.8->geopandas) (2020.12.5)\n",
            "Requirement already satisfied: click<8,>=4.0 in /usr/local/lib/python3.7/dist-packages (from fiona>=1.8->geopandas) (7.1.2)\n",
            "Collecting cligj>=0.5\n",
            "  Downloading https://files.pythonhosted.org/packages/42/1e/947eadf10d6804bf276eb8a038bd5307996dceaaa41cfd21b7a15ec62f5d/cligj-0.7.1-py3-none-any.whl\n",
            "Requirement already satisfied: attrs>=17 in /usr/local/lib/python3.7/dist-packages (from fiona>=1.8->geopandas) (20.3.0)\n",
            "Requirement already satisfied: numpy>=1.15.4 in /usr/local/lib/python3.7/dist-packages (from pandas>=0.24.0->geopandas) (1.19.5)\n",
            "Requirement already satisfied: python-dateutil>=2.7.3 in /usr/local/lib/python3.7/dist-packages (from pandas>=0.24.0->geopandas) (2.8.1)\n",
            "Requirement already satisfied: pytz>=2017.2 in /usr/local/lib/python3.7/dist-packages (from pandas>=0.24.0->geopandas) (2018.9)\n",
            "Installing collected packages: munch, click-plugins, cligj, fiona, pyproj, geopandas\n",
            "Successfully installed click-plugins-1.1.1 cligj-0.7.1 fiona-1.8.19 geopandas-0.9.0 munch-2.5.0 pyproj-3.0.1\n",
            "Requirement already satisfied: geopy in /usr/local/lib/python3.7/dist-packages (1.17.0)\n",
            "Requirement already satisfied: geographiclib<2,>=1.49 in /usr/local/lib/python3.7/dist-packages (from geopy) (1.50)\n"
          ],
          "name": "stdout"
        }
      ]
    },
    {
      "cell_type": "code",
      "metadata": {
        "id": "jrCRsSD9--nW"
      },
      "source": [
        "import csv\n",
        "import pandas as pd\n",
        "from geopy.geocoders import Nominatim\n",
        "from geopy.extra.rate_limiter import RateLimiter"
      ],
      "execution_count": 2,
      "outputs": []
    },
    {
      "cell_type": "code",
      "metadata": {
        "colab": {
          "base_uri": "https://localhost:8080/"
        },
        "id": "pGBUa0_n_ZK3",
        "outputId": "c598b50c-b158-45de-8c33-58812f021577"
      },
      "source": [
        "df = pd.read_csv(\"city_name.csv\", encoding= 'unicode_escape')\n",
        "\n",
        "print(df)"
      ],
      "execution_count": 3,
      "outputs": [
        {
          "output_type": "stream",
          "text": [
            "      No.            city\n",
            "0        1       Agartala\n",
            "1        2           Agra\n",
            "2        3      Ahmedabad\n",
            "3        4         Aizawl\n",
            "4        5          Ajmer\n",
            "..     ...            ...\n",
            "120    121          Vatva\n",
            "121    122     Vijayapura\n",
            "122    123  Visakhapatnam\n",
            "123    124         Yadgir\n",
            "124    125    Yamunanagar\n",
            "\n",
            "[125 rows x 2 columns]\n"
          ],
          "name": "stdout"
        }
      ]
    },
    {
      "cell_type": "code",
      "metadata": {
        "colab": {
          "base_uri": "https://localhost:8080/"
        },
        "id": "5ugi0RYBE-t0",
        "outputId": "c52f3dcb-8c6e-4998-dc54-ceaf98da49b4"
      },
      "source": [
        "list(df)"
      ],
      "execution_count": 4,
      "outputs": [
        {
          "output_type": "execute_result",
          "data": {
            "text/plain": [
              "['\\xa0No.\\xa0', 'city']"
            ]
          },
          "metadata": {
            "tags": []
          },
          "execution_count": 4
        }
      ]
    },
    {
      "cell_type": "code",
      "metadata": {
        "colab": {
          "base_uri": "https://localhost:8080/",
          "height": 204
        },
        "id": "RCwqZt5m59ZW",
        "outputId": "95afcbfa-cf90-4a3b-c9fb-8381f7414ea1"
      },
      "source": [
        "df['Country'] = 'India'\n",
        "df.head()"
      ],
      "execution_count": 5,
      "outputs": [
        {
          "output_type": "execute_result",
          "data": {
            "text/html": [
              "<div>\n",
              "<style scoped>\n",
              "    .dataframe tbody tr th:only-of-type {\n",
              "        vertical-align: middle;\n",
              "    }\n",
              "\n",
              "    .dataframe tbody tr th {\n",
              "        vertical-align: top;\n",
              "    }\n",
              "\n",
              "    .dataframe thead th {\n",
              "        text-align: right;\n",
              "    }\n",
              "</style>\n",
              "<table border=\"1\" class=\"dataframe\">\n",
              "  <thead>\n",
              "    <tr style=\"text-align: right;\">\n",
              "      <th></th>\n",
              "      <th>No.</th>\n",
              "      <th>city</th>\n",
              "      <th>Country</th>\n",
              "    </tr>\n",
              "  </thead>\n",
              "  <tbody>\n",
              "    <tr>\n",
              "      <th>0</th>\n",
              "      <td>1</td>\n",
              "      <td>Agartala</td>\n",
              "      <td>India</td>\n",
              "    </tr>\n",
              "    <tr>\n",
              "      <th>1</th>\n",
              "      <td>2</td>\n",
              "      <td>Agra</td>\n",
              "      <td>India</td>\n",
              "    </tr>\n",
              "    <tr>\n",
              "      <th>2</th>\n",
              "      <td>3</td>\n",
              "      <td>Ahmedabad</td>\n",
              "      <td>India</td>\n",
              "    </tr>\n",
              "    <tr>\n",
              "      <th>3</th>\n",
              "      <td>4</td>\n",
              "      <td>Aizawl</td>\n",
              "      <td>India</td>\n",
              "    </tr>\n",
              "    <tr>\n",
              "      <th>4</th>\n",
              "      <td>5</td>\n",
              "      <td>Ajmer</td>\n",
              "      <td>India</td>\n",
              "    </tr>\n",
              "  </tbody>\n",
              "</table>\n",
              "</div>"
            ],
            "text/plain": [
              "    No.        city Country\n",
              "0      1   Agartala   India\n",
              "1      2       Agra   India\n",
              "2      3  Ahmedabad   India\n",
              "3      4     Aizawl   India\n",
              "4      5      Ajmer   India"
            ]
          },
          "metadata": {
            "tags": []
          },
          "execution_count": 5
        }
      ]
    },
    {
      "cell_type": "code",
      "metadata": {
        "colab": {
          "base_uri": "https://localhost:8080/",
          "height": 204
        },
        "id": "fYGGc7165zMV",
        "outputId": "399203f0-8b8f-40ee-fd80-613c0e5b21db"
      },
      "source": [
        "df[\"location\"] = df['city'] +\", \" + df['Country']\n",
        "df.head()"
      ],
      "execution_count": 6,
      "outputs": [
        {
          "output_type": "execute_result",
          "data": {
            "text/html": [
              "<div>\n",
              "<style scoped>\n",
              "    .dataframe tbody tr th:only-of-type {\n",
              "        vertical-align: middle;\n",
              "    }\n",
              "\n",
              "    .dataframe tbody tr th {\n",
              "        vertical-align: top;\n",
              "    }\n",
              "\n",
              "    .dataframe thead th {\n",
              "        text-align: right;\n",
              "    }\n",
              "</style>\n",
              "<table border=\"1\" class=\"dataframe\">\n",
              "  <thead>\n",
              "    <tr style=\"text-align: right;\">\n",
              "      <th></th>\n",
              "      <th>No.</th>\n",
              "      <th>city</th>\n",
              "      <th>Country</th>\n",
              "      <th>location</th>\n",
              "    </tr>\n",
              "  </thead>\n",
              "  <tbody>\n",
              "    <tr>\n",
              "      <th>0</th>\n",
              "      <td>1</td>\n",
              "      <td>Agartala</td>\n",
              "      <td>India</td>\n",
              "      <td>Agartala, India</td>\n",
              "    </tr>\n",
              "    <tr>\n",
              "      <th>1</th>\n",
              "      <td>2</td>\n",
              "      <td>Agra</td>\n",
              "      <td>India</td>\n",
              "      <td>Agra, India</td>\n",
              "    </tr>\n",
              "    <tr>\n",
              "      <th>2</th>\n",
              "      <td>3</td>\n",
              "      <td>Ahmedabad</td>\n",
              "      <td>India</td>\n",
              "      <td>Ahmedabad, India</td>\n",
              "    </tr>\n",
              "    <tr>\n",
              "      <th>3</th>\n",
              "      <td>4</td>\n",
              "      <td>Aizawl</td>\n",
              "      <td>India</td>\n",
              "      <td>Aizawl, India</td>\n",
              "    </tr>\n",
              "    <tr>\n",
              "      <th>4</th>\n",
              "      <td>5</td>\n",
              "      <td>Ajmer</td>\n",
              "      <td>India</td>\n",
              "      <td>Ajmer, India</td>\n",
              "    </tr>\n",
              "  </tbody>\n",
              "</table>\n",
              "</div>"
            ],
            "text/plain": [
              "    No.        city Country          location\n",
              "0      1   Agartala   India   Agartala, India\n",
              "1      2       Agra   India       Agra, India\n",
              "2      3  Ahmedabad   India  Ahmedabad, India\n",
              "3      4     Aizawl   India     Aizawl, India\n",
              "4      5      Ajmer   India      Ajmer, India"
            ]
          },
          "metadata": {
            "tags": []
          },
          "execution_count": 6
        }
      ]
    },
    {
      "cell_type": "code",
      "metadata": {
        "id": "8_kijecbHpF-"
      },
      "source": [
        "from geopy.exc import GeocoderTimedOut \n",
        "from geopy.geocoders import Nominatim \n",
        "import numpy as np\n",
        "   \n",
        "# declare an empty list to store \n",
        "# latitude and longitude of values  \n",
        "# of city column \n",
        "longitude = [] \n",
        "latitude = []       \n",
        "  \n",
        "# function to find the coordinate \n",
        "# of a given city  \n",
        "def findGeocode(location): \n",
        "       \n",
        "    # try and catch is used to overcome \n",
        "    # the exception thrown by geolocator \n",
        "    # using geocodertimedout   \n",
        "    try: \n",
        "          \n",
        "        # Specify the user_agent as your \n",
        "        # app name it should not be none \n",
        "        geolocator = Nominatim(user_agent=\"myGeocoder\")\n",
        "        \n",
        "        return geolocator.geocode(location) \n",
        "      \n",
        "    except GeocoderTimedOut: \n",
        "          \n",
        "        return findGeocode(location) \n",
        "# each value from city column \n",
        "# will be fetched and sent to \n",
        "# function find_geocode    \n",
        "for i in (df[\"location\"]): \n",
        "      \n",
        "    if findGeocode(i) != None: \n",
        "           \n",
        "        loc = findGeocode(i) \n",
        "          \n",
        "        # coordinates returned from  \n",
        "        # function is stored into \n",
        "        # two separate list \n",
        "        latitude.append(loc.latitude) \n",
        "        longitude.append(loc.longitude) \n",
        "       \n",
        "    # if coordinate for a city not \n",
        "    # found, insert \"NaN\" indicating  \n",
        "    # missing value  \n",
        "    else: \n",
        "        latitude.append(np.nan) \n",
        "        longitude.append(np.nan) "
      ],
      "execution_count": 7,
      "outputs": []
    },
    {
      "cell_type": "code",
      "metadata": {
        "colab": {
          "base_uri": "https://localhost:8080/",
          "height": 204
        },
        "id": "wnQzvoVjLuJY",
        "outputId": "706e71d8-11cc-49c6-f720-6e08176c5983"
      },
      "source": [
        "df[\"Longitude\"] = longitude \n",
        "df[\"Latitude\"] = latitude \n",
        "\n",
        "df.head()"
      ],
      "execution_count": 8,
      "outputs": [
        {
          "output_type": "execute_result",
          "data": {
            "text/html": [
              "<div>\n",
              "<style scoped>\n",
              "    .dataframe tbody tr th:only-of-type {\n",
              "        vertical-align: middle;\n",
              "    }\n",
              "\n",
              "    .dataframe tbody tr th {\n",
              "        vertical-align: top;\n",
              "    }\n",
              "\n",
              "    .dataframe thead th {\n",
              "        text-align: right;\n",
              "    }\n",
              "</style>\n",
              "<table border=\"1\" class=\"dataframe\">\n",
              "  <thead>\n",
              "    <tr style=\"text-align: right;\">\n",
              "      <th></th>\n",
              "      <th>No.</th>\n",
              "      <th>city</th>\n",
              "      <th>Country</th>\n",
              "      <th>location</th>\n",
              "      <th>Longitude</th>\n",
              "      <th>Latitude</th>\n",
              "    </tr>\n",
              "  </thead>\n",
              "  <tbody>\n",
              "    <tr>\n",
              "      <th>0</th>\n",
              "      <td>1</td>\n",
              "      <td>Agartala</td>\n",
              "      <td>India</td>\n",
              "      <td>Agartala, India</td>\n",
              "      <td>91.282382</td>\n",
              "      <td>23.831238</td>\n",
              "    </tr>\n",
              "    <tr>\n",
              "      <th>1</th>\n",
              "      <td>2</td>\n",
              "      <td>Agra</td>\n",
              "      <td>India</td>\n",
              "      <td>Agra, India</td>\n",
              "      <td>78.009816</td>\n",
              "      <td>27.175255</td>\n",
              "    </tr>\n",
              "    <tr>\n",
              "      <th>2</th>\n",
              "      <td>3</td>\n",
              "      <td>Ahmedabad</td>\n",
              "      <td>India</td>\n",
              "      <td>Ahmedabad, India</td>\n",
              "      <td>72.579707</td>\n",
              "      <td>23.021624</td>\n",
              "    </tr>\n",
              "    <tr>\n",
              "      <th>3</th>\n",
              "      <td>4</td>\n",
              "      <td>Aizawl</td>\n",
              "      <td>India</td>\n",
              "      <td>Aizawl, India</td>\n",
              "      <td>92.738291</td>\n",
              "      <td>23.743524</td>\n",
              "    </tr>\n",
              "    <tr>\n",
              "      <th>4</th>\n",
              "      <td>5</td>\n",
              "      <td>Ajmer</td>\n",
              "      <td>India</td>\n",
              "      <td>Ajmer, India</td>\n",
              "      <td>74.639000</td>\n",
              "      <td>26.469100</td>\n",
              "    </tr>\n",
              "  </tbody>\n",
              "</table>\n",
              "</div>"
            ],
            "text/plain": [
              "    No.        city Country          location  Longitude   Latitude\n",
              "0      1   Agartala   India   Agartala, India  91.282382  23.831238\n",
              "1      2       Agra   India       Agra, India  78.009816  27.175255\n",
              "2      3  Ahmedabad   India  Ahmedabad, India  72.579707  23.021624\n",
              "3      4     Aizawl   India     Aizawl, India  92.738291  23.743524\n",
              "4      5      Ajmer   India      Ajmer, India  74.639000  26.469100"
            ]
          },
          "metadata": {
            "tags": []
          },
          "execution_count": 8
        }
      ]
    },
    {
      "cell_type": "code",
      "metadata": {
        "id": "Jf_zsKMpHjtI"
      },
      "source": [
        "df['lat_long'] = [', '.join(str(x) for x in y) for y in map(tuple, df[['Latitude', 'Longitude']].values)]"
      ],
      "execution_count": 9,
      "outputs": []
    },
    {
      "cell_type": "code",
      "metadata": {
        "colab": {
          "base_uri": "https://localhost:8080/",
          "height": 204
        },
        "id": "zFnUODcNIvqK",
        "outputId": "75737e23-2234-49ff-b7d4-5134605f4c70"
      },
      "source": [
        "df.head()"
      ],
      "execution_count": 10,
      "outputs": [
        {
          "output_type": "execute_result",
          "data": {
            "text/html": [
              "<div>\n",
              "<style scoped>\n",
              "    .dataframe tbody tr th:only-of-type {\n",
              "        vertical-align: middle;\n",
              "    }\n",
              "\n",
              "    .dataframe tbody tr th {\n",
              "        vertical-align: top;\n",
              "    }\n",
              "\n",
              "    .dataframe thead th {\n",
              "        text-align: right;\n",
              "    }\n",
              "</style>\n",
              "<table border=\"1\" class=\"dataframe\">\n",
              "  <thead>\n",
              "    <tr style=\"text-align: right;\">\n",
              "      <th></th>\n",
              "      <th>No.</th>\n",
              "      <th>city</th>\n",
              "      <th>Country</th>\n",
              "      <th>location</th>\n",
              "      <th>Longitude</th>\n",
              "      <th>Latitude</th>\n",
              "      <th>lat_long</th>\n",
              "    </tr>\n",
              "  </thead>\n",
              "  <tbody>\n",
              "    <tr>\n",
              "      <th>0</th>\n",
              "      <td>1</td>\n",
              "      <td>Agartala</td>\n",
              "      <td>India</td>\n",
              "      <td>Agartala, India</td>\n",
              "      <td>91.282382</td>\n",
              "      <td>23.831238</td>\n",
              "      <td>23.8312377, 91.2823821</td>\n",
              "    </tr>\n",
              "    <tr>\n",
              "      <th>1</th>\n",
              "      <td>2</td>\n",
              "      <td>Agra</td>\n",
              "      <td>India</td>\n",
              "      <td>Agra, India</td>\n",
              "      <td>78.009816</td>\n",
              "      <td>27.175255</td>\n",
              "      <td>27.1752554, 78.0098161</td>\n",
              "    </tr>\n",
              "    <tr>\n",
              "      <th>2</th>\n",
              "      <td>3</td>\n",
              "      <td>Ahmedabad</td>\n",
              "      <td>India</td>\n",
              "      <td>Ahmedabad, India</td>\n",
              "      <td>72.579707</td>\n",
              "      <td>23.021624</td>\n",
              "      <td>23.0216238, 72.5797068</td>\n",
              "    </tr>\n",
              "    <tr>\n",
              "      <th>3</th>\n",
              "      <td>4</td>\n",
              "      <td>Aizawl</td>\n",
              "      <td>India</td>\n",
              "      <td>Aizawl, India</td>\n",
              "      <td>92.738291</td>\n",
              "      <td>23.743524</td>\n",
              "      <td>23.7435236, 92.7382905</td>\n",
              "    </tr>\n",
              "    <tr>\n",
              "      <th>4</th>\n",
              "      <td>5</td>\n",
              "      <td>Ajmer</td>\n",
              "      <td>India</td>\n",
              "      <td>Ajmer, India</td>\n",
              "      <td>74.639000</td>\n",
              "      <td>26.469100</td>\n",
              "      <td>26.4691, 74.639</td>\n",
              "    </tr>\n",
              "  </tbody>\n",
              "</table>\n",
              "</div>"
            ],
            "text/plain": [
              "    No.        city Country  ...  Longitude   Latitude                lat_long\n",
              "0      1   Agartala   India  ...  91.282382  23.831238  23.8312377, 91.2823821\n",
              "1      2       Agra   India  ...  78.009816  27.175255  27.1752554, 78.0098161\n",
              "2      3  Ahmedabad   India  ...  72.579707  23.021624  23.0216238, 72.5797068\n",
              "3      4     Aizawl   India  ...  92.738291  23.743524  23.7435236, 92.7382905\n",
              "4      5      Ajmer   India  ...  74.639000  26.469100         26.4691, 74.639\n",
              "\n",
              "[5 rows x 7 columns]"
            ]
          },
          "metadata": {
            "tags": []
          },
          "execution_count": 10
        }
      ]
    },
    {
      "cell_type": "code",
      "metadata": {
        "id": "y_7s87ujQnzm"
      },
      "source": [
        "df.to_csv(\"aqi.csv\")"
      ],
      "execution_count": 11,
      "outputs": []
    },
    {
      "cell_type": "code",
      "metadata": {
        "id": "T0xxAKCw4JSH"
      },
      "source": [
        ""
      ],
      "execution_count": 11,
      "outputs": []
    }
  ]
}